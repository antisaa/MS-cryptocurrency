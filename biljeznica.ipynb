{
 "cells": [
  {
   "cell_type": "markdown",
   "metadata": {},
   "source": [
    "# Kriptovalute"
   ]
  },
  {
   "cell_type": "markdown",
   "metadata": {},
   "source": [
    "## Općenito"
   ]
  },
  {
   "cell_type": "markdown",
   "metadata": {},
   "source": [
    "Kriptovalute su digitalne imovine prvotno osmišljene kao sredstvo za razmjenu vrijednosti koje koriste kriptografiju za validaciju i sigurnost transakcija, te kontrolu stvaranja dodatnih jedinica.\n",
    "Kriptovalute koriste decentraliziranu kontrolu za razliku od centraliziranih bankarskih sustava."
   ]
  },
  {
   "cell_type": "code",
   "execution_count": null,
   "metadata": {},
   "outputs": [],
   "source": [
    "import matplotlib.pyplot as plt\n",
    "figa, axa = plt.subplots()\n",
    "crypto = plt.imread('Cryptocurrency.jpeg')\n",
    "axa.imshow(crypto)"
   ]
  },
  {
   "cell_type": "markdown",
   "metadata": {},
   "source": [
    "## Bitcoin"
   ]
  },
  {
   "cell_type": "markdown",
   "metadata": {},
   "source": [
    "Bitcoin je prva decentralizirana kriptovaluta napravljena 2009. Od tada je napravljeno mnoštvo kriptovaluta sa raznim idejama za primjenu."
   ]
  },
  {
   "cell_type": "markdown",
   "metadata": {},
   "source": [
    "## Blochchain"
   ]
  },
  {
   "cell_type": "markdown",
   "metadata": {},
   "source": [
    "Velika većina kriptovaluta je napravljena na blockchain tehnologiji. Blockchain možemo poistovjetiti sa bazom podataka koja je podjeljena između svih čvorova koji sudjeluju u sustavu.\n",
    "Osnovna građevna jedinica svakog blockshaina je Blok:"
   ]
  },
  {
   "cell_type": "code",
   "execution_count": null,
   "metadata": {},
   "outputs": [],
   "source": [
    "import hashlib\n",
    "\n",
    "class Block:\n",
    "\n",
    "    def __init__(self, index, timpestamp, previousHash, data):\n",
    "        \n",
    "        self.index = index\n",
    "        self.timestamp = timpestamp\n",
    "        self.data = data\n",
    "        self.previousHash = previousHash\n",
    "        self.encoded = (str(self.index) + str(self.timestamp) + \n",
    "                str(self.data) + str(self.previousHash)).encode('utf-8')\n",
    "        self.hash = self.hashMyBlock().hexdigest()\n",
    "\n",
    "    def hashMyBlock(self):\n",
    "        sha = hashlib.sha256()\n",
    "        sha.update(self.encoded)\n",
    "        return sha"
   ]
  },
  {
   "cell_type": "code",
   "execution_count": null,
   "metadata": {
    "scrolled": false
   },
   "outputs": [],
   "source": [
    "import datetime as date\n",
    "genesisBlock = Block(0, date.datetime.now(),\"\",\"First block\")\n",
    "genesisBlock.hash"
   ]
  },
  {
   "cell_type": "markdown",
   "metadata": {},
   "source": [
    "Vidimo da za isti ulaz funkcija sha256 daje isti izlaz:"
   ]
  },
  {
   "cell_type": "code",
   "execution_count": null,
   "metadata": {},
   "outputs": [],
   "source": [
    "copyOfGenesisBlock = Block(genesisBlock.index,genesisBlock.timestamp,\n",
    "                           genesisBlock.previousHash,genesisBlock.data)\n",
    "copyOfGenesisBlock.hash"
   ]
  },
  {
   "cell_type": "code",
   "execution_count": null,
   "metadata": {},
   "outputs": [],
   "source": [
    "import csv\n",
    "lista = []\n",
    "with open('data/bitcoin_price.csv') as file:\n",
    "    read = csv.DictReader(file)\n",
    "    for row in read:\n",
    "        for feature in row:\n",
    "            lista.append(row)\n",
    "            print (row)"
   ]
  },
  {
   "cell_type": "code",
   "execution_count": null,
   "metadata": {},
   "outputs": [],
   "source": [
    "import pandas as pd\n",
    "test = pd.read_csv('data/bitcoin_price.csv')"
   ]
  },
  {
   "cell_type": "code",
   "execution_count": null,
   "metadata": {},
   "outputs": [],
   "source": [
    "%matplotlib inline \n",
    "import matplotlib.pyplot as plt"
   ]
  },
  {
   "cell_type": "code",
   "execution_count": null,
   "metadata": {},
   "outputs": [],
   "source": []
  },
  {
   "cell_type": "code",
   "execution_count": null,
   "metadata": {},
   "outputs": [],
   "source": [
    "test.dtypes"
   ]
  },
  {
   "cell_type": "code",
   "execution_count": null,
   "metadata": {},
   "outputs": [],
   "source": [
    "test.Date"
   ]
  },
  {
   "cell_type": "code",
   "execution_count": null,
   "metadata": {},
   "outputs": [],
   "source": [
    "dates=[]\n",
    "opens =[]\n",
    "index=[]\n",
    "n = len(test.Date)\n",
    "for i in range(0,n):\n",
    "    dates.append(test.Date[i])\n",
    "    opens.append(test.Open[n-i-1])\n",
    "    index.append(i)"
   ]
  },
  {
   "cell_type": "code",
   "execution_count": null,
   "metadata": {},
   "outputs": [],
   "source": [
    "import matplotlib\n",
    "datees = matplotlib.dates.date2num(dates)\n",
    "matplotlib.pyplot.plot_date(datees, opens)"
   ]
  },
  {
   "cell_type": "code",
   "execution_count": null,
   "metadata": {},
   "outputs": [],
   "source": [
    "plt.plot(index[-200:], opens[-200:])"
   ]
  },
  {
   "cell_type": "code",
   "execution_count": null,
   "metadata": {},
   "outputs": [],
   "source": []
  }
 ],
 "metadata": {
  "kernelspec": {
   "display_name": "Python 3",
   "language": "python",
   "name": "python3"
  },
  "language_info": {
   "codemirror_mode": {
    "name": "ipython",
    "version": 3
   },
   "file_extension": ".py",
   "mimetype": "text/x-python",
   "name": "python",
   "nbconvert_exporter": "python",
   "pygments_lexer": "ipython3",
   "version": "3.6.4"
  }
 },
 "nbformat": 4,
 "nbformat_minor": 2
}
