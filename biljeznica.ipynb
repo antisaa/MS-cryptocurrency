{
 "cells": [
  {
   "cell_type": "markdown",
   "metadata": {},
   "source": [
    "# Kriptovalute"
   ]
  },
  {
   "cell_type": "markdown",
   "metadata": {},
   "source": [
    "## Općenito"
   ]
  },
  {
   "cell_type": "markdown",
   "metadata": {},
   "source": [
    "Kriptovalute su digitalne imovine prvotno osmišljene kao sredstvo za razmjenu vrijednosti koje koriste kriptografiju za validaciju i sigurnost transakcija, te kontrolu stvaranja dodatnih jedinica.\n",
    "Kriptovalute koriste decentraliziranu kontrolu za razliku od centraliziranih bankarskih sustava."
   ]
  },
  {
   "cell_type": "code",
   "execution_count": 1,
   "metadata": {},
   "outputs": [
    {
     "data": {
      "text/plain": [
       "<matplotlib.image.AxesImage at 0x7f868a2a2668>"
      ]
     },
     "execution_count": 1,
     "metadata": {},
     "output_type": "execute_result"
    }
   ],
   "source": [
    "import matplotlib.pyplot as plt\n",
    "figa, axa = plt.subplots()\n",
    "crypto = plt.imread('Cryptocurrency.jpeg')\n",
    "axa.imshow(crypto)"
   ]
  },
  {
   "cell_type": "markdown",
   "metadata": {},
   "source": [
    "## Bitcoin"
   ]
  },
  {
   "cell_type": "markdown",
   "metadata": {},
   "source": [
    "Bitcoin je prva decentralizirana kriptovaluta napravljena 2009. Od tada je napravljeno mnoštvo kriptovaluta sa raznim idejama za primjenu."
   ]
  },
  {
   "cell_type": "markdown",
   "metadata": {},
   "source": [
    "## Blochchain"
   ]
  },
  {
   "cell_type": "markdown",
   "metadata": {},
   "source": [
    "Velika većina kriptovaluta je napravljena na blockchain tehnologiji. Blockchain možemo poistovjetiti sa bazom podataka koja je podjeljena između svih čvorova koji sudjeluju u sustavu.\n",
    "Osnovna građevna jedinica svakog blockshaina je Blok:"
   ]
  },
  {
   "cell_type": "code",
   "execution_count": 17,
   "metadata": {},
   "outputs": [],
   "source": [
    "import hashlib\n",
    "\n",
    "class Block:\n",
    "\n",
    "    def __init__(self, index, timpestamp, previousHash, transactions):\n",
    "        \n",
    "        self.index = index\n",
    "        self.timestamp = timpestamp\n",
    "        self.transactions = transactions\n",
    "        self.previousHash = previousHash\n",
    "        self.encoded = (str(self.index) + str(self.timestamp) + \n",
    "                str(self.transactions) + str(self.previousHash)).encode('utf-8')\n",
    "        self.hash = self.hashMyBlock().hexdigest()\n",
    "\n",
    "    def hashMyBlock(self):\n",
    "        sha = hashlib.sha256()\n",
    "        sha.update(self.encoded)\n",
    "        return sha"
   ]
  },
  {
   "cell_type": "code",
   "execution_count": 26,
   "metadata": {},
   "outputs": [],
   "source": [
    "import datetime as date\n",
    "\n",
    "def getMeTime():\n",
    "    \n",
    "    return date.datetime.now()"
   ]
  },
  {
   "cell_type": "code",
   "execution_count": 46,
   "metadata": {
    "scrolled": false
   },
   "outputs": [
    {
     "data": {
      "text/plain": [
       "'a00cdb33d1a6f850488f9b37178b17a9fdaa7bb71dff3a318b76a6a430eb96b6'"
      ]
     },
     "execution_count": 46,
     "metadata": {},
     "output_type": "execute_result"
    }
   ],
   "source": [
    "genesisBlock = Block(0, getMeTime(),\"\",[\"First block\"])\n",
    "genesisBlock.hash"
   ]
  },
  {
   "cell_type": "markdown",
   "metadata": {},
   "source": [
    "Vidimo da za isti ulaz funkcija sha256 daje isti izlaz:"
   ]
  },
  {
   "cell_type": "code",
   "execution_count": 47,
   "metadata": {},
   "outputs": [
    {
     "data": {
      "text/plain": [
       "'a00cdb33d1a6f850488f9b37178b17a9fdaa7bb71dff3a318b76a6a430eb96b6'"
      ]
     },
     "execution_count": 47,
     "metadata": {},
     "output_type": "execute_result"
    }
   ],
   "source": [
    "copyOfGenesisBlock = Block(genesisBlock.index,genesisBlock.timestamp,\n",
    "                           genesisBlock.previousHash,genesisBlock.transactions)\n",
    "copyOfGenesisBlock.hash"
   ]
  },
  {
   "cell_type": "code",
   "execution_count": 57,
   "metadata": {},
   "outputs": [],
   "source": [
    "class Blockchain:\n",
    "    \n",
    "    def __init__(self, genesisBlock):\n",
    "        \n",
    "        self.genesisBlock = genesisBlock\n",
    "        self.blocks = []\n",
    "        self.blocks.append(genesisBlock)\n",
    "    \n",
    "    def addNewBlock(self, block):\n",
    "        \n",
    "        self.blocks.append(block)"
   ]
  },
  {
   "cell_type": "code",
   "execution_count": 79,
   "metadata": {},
   "outputs": [],
   "source": [
    "transactions = [\"Alice Bob 50\",\"Bob John 10\"]\n",
    "\n",
    "secondBlock = Block(1,getMeTime(),genesisBlock.hash,transactions)\n",
    "\n",
    "transactions3 = [\"Bob Alice 20\", \"John Mary 5\", \"Alice Mary 20\"]\n",
    "thirdBlock = Block(2,getMeTime(),secondBlock.hash,transactions3)"
   ]
  },
  {
   "cell_type": "code",
   "execution_count": 80,
   "metadata": {},
   "outputs": [
    {
     "data": {
      "text/plain": [
       "['First block']"
      ]
     },
     "execution_count": 80,
     "metadata": {},
     "output_type": "execute_result"
    }
   ],
   "source": [
    "genesisBlock.transactions"
   ]
  },
  {
   "cell_type": "code",
   "execution_count": 81,
   "metadata": {},
   "outputs": [],
   "source": [
    "def printBlock(block):\n",
    "    \n",
    "    print(\"=\" * 30 + \" \" + str(block.index) + \" \" + \"=\" * 30)\n",
    "    print(block.hash)\n",
    "    print(\"=\" * 63)\n",
    "    for trans in block.transactions:\n",
    "        print(trans)\n",
    "\n",
    "def printBlockchain(blockchain):\n",
    "    \n",
    "    for block in blockchain.blocks:\n",
    "        printBlock(block)"
   ]
  },
  {
   "cell_type": "code",
   "execution_count": 82,
   "metadata": {
    "scrolled": true
   },
   "outputs": [
    {
     "name": "stdout",
     "output_type": "stream",
     "text": [
      "============================== 0 ==============================\n",
      "a00cdb33d1a6f850488f9b37178b17a9fdaa7bb71dff3a318b76a6a430eb96b6\n",
      "===============================================================\n",
      "First block\n"
     ]
    }
   ],
   "source": [
    "printBlock(genesisBlock)"
   ]
  },
  {
   "cell_type": "code",
   "execution_count": 83,
   "metadata": {
    "scrolled": true
   },
   "outputs": [
    {
     "name": "stdout",
     "output_type": "stream",
     "text": [
      "============================== 1 ==============================\n",
      "4cfab635f6c02b97274af250c512ebae051425197955f816417b00e3cf0d76bf\n",
      "===============================================================\n",
      "Alice Bob 50\n",
      "Bob John 10\n"
     ]
    }
   ],
   "source": [
    "printBlock(secondBlock)"
   ]
  },
  {
   "cell_type": "code",
   "execution_count": 84,
   "metadata": {},
   "outputs": [
    {
     "name": "stdout",
     "output_type": "stream",
     "text": [
      "============================== 0 ==============================\n",
      "a00cdb33d1a6f850488f9b37178b17a9fdaa7bb71dff3a318b76a6a430eb96b6\n",
      "===============================================================\n",
      "First block\n",
      "============================== 1 ==============================\n",
      "4cfab635f6c02b97274af250c512ebae051425197955f816417b00e3cf0d76bf\n",
      "===============================================================\n",
      "Alice Bob 50\n",
      "Bob John 10\n",
      "============================== 2 ==============================\n",
      "f64194505b2fb4216b5fbc548a97438b208c98968826d5e48665107140caea84\n",
      "===============================================================\n",
      "Bob Alice 20\n",
      "John Mary 5\n",
      "Alice Mary 20\n"
     ]
    }
   ],
   "source": [
    "blockchain = Blockchain(genesisBlock)\n",
    "blockchain.addNewBlock(secondBlock)\n",
    "blockchain.addNewBlock(thirdBlock)\n",
    "printBlockchain(blockchain)"
   ]
  },
  {
   "cell_type": "code",
   "execution_count": null,
   "metadata": {},
   "outputs": [],
   "source": []
  },
  {
   "cell_type": "code",
   "execution_count": null,
   "metadata": {},
   "outputs": [],
   "source": [
    "import csv\n",
    "lista = []\n",
    "with open('data/bitcoin_price.csv') as file:\n",
    "    read = csv.DictReader(file)\n",
    "    for row in read:\n",
    "        for feature in row:\n",
    "            lista.append(row)\n",
    "            print (row)"
   ]
  },
  {
   "cell_type": "code",
   "execution_count": null,
   "metadata": {},
   "outputs": [],
   "source": [
    "import pandas as pd\n",
    "test = pd.read_csv('data/bitcoin_price.csv')"
   ]
  },
  {
   "cell_type": "code",
   "execution_count": null,
   "metadata": {},
   "outputs": [],
   "source": [
    "%matplotlib inline \n",
    "import matplotlib.pyplot as plt"
   ]
  },
  {
   "cell_type": "code",
   "execution_count": null,
   "metadata": {},
   "outputs": [],
   "source": []
  },
  {
   "cell_type": "code",
   "execution_count": null,
   "metadata": {},
   "outputs": [],
   "source": [
    "test.dtypes"
   ]
  },
  {
   "cell_type": "code",
   "execution_count": null,
   "metadata": {},
   "outputs": [],
   "source": [
    "test.Date"
   ]
  },
  {
   "cell_type": "code",
   "execution_count": null,
   "metadata": {},
   "outputs": [],
   "source": [
    "dates=[]\n",
    "opens =[]\n",
    "index=[]\n",
    "n = len(test.Date)\n",
    "for i in range(0,n):\n",
    "    dates.append(test.Date[i])\n",
    "    opens.append(test.Open[n-i-1])\n",
    "    index.append(i)"
   ]
  },
  {
   "cell_type": "code",
   "execution_count": null,
   "metadata": {},
   "outputs": [],
   "source": [
    "import matplotlib\n",
    "datees = matplotlib.dates.date2num(dates)\n",
    "matplotlib.pyplot.plot_date(datees, opens)"
   ]
  },
  {
   "cell_type": "code",
   "execution_count": null,
   "metadata": {},
   "outputs": [],
   "source": [
    "plt.plot(index[-200:], opens[-200:])"
   ]
  },
  {
   "cell_type": "code",
   "execution_count": null,
   "metadata": {},
   "outputs": [],
   "source": []
  }
 ],
 "metadata": {
  "kernelspec": {
   "display_name": "Python 3",
   "language": "python",
   "name": "python3"
  },
  "language_info": {
   "codemirror_mode": {
    "name": "ipython",
    "version": 3
   },
   "file_extension": ".py",
   "mimetype": "text/x-python",
   "name": "python",
   "nbconvert_exporter": "python",
   "pygments_lexer": "ipython3",
   "version": "3.6.4"
  }
 },
 "nbformat": 4,
 "nbformat_minor": 2
}
