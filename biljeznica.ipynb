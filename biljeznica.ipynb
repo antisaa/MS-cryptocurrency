{
 "cells": [
  {
   "cell_type": "markdown",
   "metadata": {},
   "source": [
    "# Kriptovalute"
   ]
  },
  {
   "cell_type": "markdown",
   "metadata": {},
   "source": [
    "## Općenito"
   ]
  },
  {
   "cell_type": "markdown",
   "metadata": {},
   "source": [
    "Kriptovalute su digitalne imovine prvotno osmišljene kao sredstvo za razmjenu vrijednosti koje koriste kriptografiju za validaciju i sigurnost transakcija, te kontrolu stvaranja dodatnih jedinica.\n",
    "Kriptovalute koriste decentraliziranu kontrolu za razliku od centraliziranih bankarskih sustava."
   ]
  },
  {
   "cell_type": "code",
   "execution_count": null,
   "metadata": {},
   "outputs": [],
   "source": [
    "import matplotlib.pyplot as plt\n",
    "figa, axa = plt.subplots()\n",
    "crypto = plt.imread('Cryptocurrency.jpeg')\n",
    "axa.imshow(crypto)"
   ]
  },
  {
   "cell_type": "markdown",
   "metadata": {},
   "source": [
    "## Bitcoin"
   ]
  },
  {
   "cell_type": "markdown",
   "metadata": {},
   "source": [
    "Bitcoin je prva decentralizirana kriptovaluta napravljena 2009. Od tada je napravljeno mnoštvo kriptovaluta sa raznim idejama za primjenu."
   ]
  },
  {
   "cell_type": "markdown",
   "metadata": {},
   "source": [
    "## Blochchain"
   ]
  },
  {
   "cell_type": "markdown",
   "metadata": {},
   "source": [
    "Velika većina kriptovaluta je napravljena na blockchain tehnologiji. Blockchain možemo poistovjetiti sa bazom podataka koja je podjeljena između svih čvorova koji sudjeluju u sustavu.\n",
    "Osnovna građevna jedinica svakog blockshaina je Blok:"
   ]
  },
  {
   "cell_type": "code",
   "execution_count": 27,
   "metadata": {},
   "outputs": [],
   "source": [
    "import hashlib\n",
    "\n",
    "class Block:\n",
    "\n",
    "    def __init__(self, index, timpestamp, previousHash, transactions):\n",
    "        \n",
    "        self.index = index\n",
    "        self.timestamp = timpestamp\n",
    "        self.transactions = transactions\n",
    "        self.previousHash = previousHash\n",
    "        self.encoded = (str(self.index) + str(self.timestamp) + \n",
    "                str(self.transactions) + str(self.previousHash)).encode('utf-8')\n",
    "        self.hash = self.hashMyBlock().hexdigest()\n",
    "\n",
    "    def hashBlock(self):\n",
    "        sha = hashlib.sha256()\n",
    "        sha.update(self.encoded)\n",
    "        return sha"
   ]
  },
  {
   "cell_type": "code",
   "execution_count": 26,
   "metadata": {},
   "outputs": [],
   "source": [
    "class Transaction:\n",
    "    \n",
    "    def __init__(self, sender, reciever, amount):\n",
    "        \n",
    "        self.sender = sender\n",
    "        self.reciever = reciever\n",
    "        self.amount = amount\n",
    "        self.encoded = (str(self.sender) + str(self.reciever) + \n",
    "                str(self.amount) ).encode('utf-8')\n",
    "        self.hash = self.hashMyTransaction().hexdigest()\n",
    "        \n",
    "        \n",
    "    def hashTransaction(self):\n",
    "        \n",
    "        sha = hashlib.sha256()\n",
    "        sha.update(self.encoded)\n",
    "        return sha"
   ]
  },
  {
   "cell_type": "code",
   "execution_count": 25,
   "metadata": {},
   "outputs": [],
   "source": [
    "class Mempool:\n",
    "    \n",
    "    def __init__(self):\n",
    "        \n",
    "        self.transactions=[]\n",
    "        \n",
    "    def addNewTransaction(self,transaction):\n",
    "        \n",
    "        self.transactions.append(transaction)"
   ]
  },
  {
   "cell_type": "code",
   "execution_count": 30,
   "metadata": {},
   "outputs": [],
   "source": [
    "class Node:\n",
    "    \n",
    "    def __init__(self, name):\n",
    "    \n",
    "        self.name = name\n",
    "        self.balance = 0\n",
    "        self.priKey = self.hashNode(self.name.encode('utf-8')).hexdigest()\n",
    "        self.priKey = self.hashNode().hexdigest()\n",
    "        \n",
    "    def hashNode(self, stringToHash):\n",
    "        \n",
    "        sha = hashlib.sha256()\n",
    "        sha.update(stringToHash)\n",
    "        return sha"
   ]
  },
  {
   "cell_type": "code",
   "execution_count": 16,
   "metadata": {},
   "outputs": [
    {
     "data": {
      "text/plain": [
       "'c4b9a2dc06df9ad095ab06d4d131ece0500d3a7bf66e654a2c728931b4aed1c0'"
      ]
     },
     "execution_count": 16,
     "metadata": {},
     "output_type": "execute_result"
    }
   ],
   "source": [
    "\n",
    "trans= Transaction(\"a\",\"b\",10)\n",
    "trans.hash"
   ]
  },
  {
   "cell_type": "code",
   "execution_count": 3,
   "metadata": {},
   "outputs": [],
   "source": [
    "import datetime as date\n",
    "\n",
    "def getMeTime():\n",
    "    \n",
    "    return date.datetime.now()"
   ]
  },
  {
   "cell_type": "code",
   "execution_count": 7,
   "metadata": {
    "scrolled": false
   },
   "outputs": [
    {
     "data": {
      "text/plain": [
       "'6afcaadbc31039de6f6d1d7a90be15cd2ac2d063ef3d1129a915726e11f466dc'"
      ]
     },
     "execution_count": 7,
     "metadata": {},
     "output_type": "execute_result"
    }
   ],
   "source": [
    "genesisBlock = Block(0, getMeTime(),\"\",[\"First block\"])\n",
    "genesisBlock.hashMe()\n",
    "genesisBlock.hash"
   ]
  },
  {
   "cell_type": "markdown",
   "metadata": {},
   "source": [
    "Vidimo da za isti ulaz funkcija sha256 daje isti izlaz:"
   ]
  },
  {
   "cell_type": "code",
   "execution_count": 8,
   "metadata": {},
   "outputs": [
    {
     "data": {
      "text/plain": [
       "''"
      ]
     },
     "execution_count": 8,
     "metadata": {},
     "output_type": "execute_result"
    }
   ],
   "source": [
    "copyOfGenesisBlock = Block(genesisBlock.index,genesisBlock.timestamp,\n",
    "                           genesisBlock.previousHash,genesisBlock.transactions)\n",
    "copyOfGenesisBlock.hash"
   ]
  },
  {
   "cell_type": "code",
   "execution_count": null,
   "metadata": {},
   "outputs": [],
   "source": [
    "class Blockchain:\n",
    "    \n",
    "    def __init__(self, genesisBlock):\n",
    "        \n",
    "        self.genesisBlock = genesisBlock\n",
    "        self.blocks = []\n",
    "        self.blocks.append(genesisBlock)\n",
    "    \n",
    "    def addNewBlock(self, block):\n",
    "        \n",
    "        self.blocks.append(block)"
   ]
  },
  {
   "cell_type": "code",
   "execution_count": null,
   "metadata": {},
   "outputs": [],
   "source": [
    "transactions = [\"Alice Bob 50\",\"Bob John 10\"]\n",
    "\n",
    "secondBlock = Block(1,getMeTime(),genesisBlock.hash,transactions)\n",
    "\n",
    "transactions3 = [\"Bob Alice 20\", \"John Mary 5\", \"Alice Mary 20\"]\n",
    "thirdBlock = Block(2,getMeTime(),secondBlock.hash,transactions3)"
   ]
  },
  {
   "cell_type": "code",
   "execution_count": null,
   "metadata": {},
   "outputs": [],
   "source": [
    "genesisBlock.transactions"
   ]
  },
  {
   "cell_type": "code",
   "execution_count": null,
   "metadata": {},
   "outputs": [],
   "source": [
    "def printBlock(block):\n",
    "    \n",
    "    print(\"=\" * 30 + \" \" + str(block.index) + \" \" + \"=\" * 30)\n",
    "    print(block.hash)\n",
    "    print(\"=\" * 63)\n",
    "    for trans in block.transactions:\n",
    "        print(trans)\n",
    "\n",
    "def printBlockchain(blockchain):\n",
    "    \n",
    "    for block in blockchain.blocks:\n",
    "        printBlock(block)"
   ]
  },
  {
   "cell_type": "code",
   "execution_count": null,
   "metadata": {
    "scrolled": true
   },
   "outputs": [],
   "source": [
    "printBlock(genesisBlock)"
   ]
  },
  {
   "cell_type": "code",
   "execution_count": null,
   "metadata": {
    "scrolled": true
   },
   "outputs": [],
   "source": [
    "printBlock(secondBlock)"
   ]
  },
  {
   "cell_type": "code",
   "execution_count": null,
   "metadata": {},
   "outputs": [],
   "source": [
    "blockchain = Blockchain(genesisBlock)\n",
    "blockchain.addNewBlock(secondBlock)\n",
    "blockchain.addNewBlock(thirdBlock)\n",
    "printBlockchain(blockchain)"
   ]
  },
  {
   "cell_type": "code",
   "execution_count": null,
   "metadata": {},
   "outputs": [],
   "source": []
  },
  {
   "cell_type": "code",
   "execution_count": null,
   "metadata": {},
   "outputs": [],
   "source": [
    "import csv\n",
    "lista = []\n",
    "with open('data/bitcoin_price.csv') as file:\n",
    "    read = csv.DictReader(file)\n",
    "    for row in read:\n",
    "        for feature in row:\n",
    "            lista.append(row)\n",
    "            print (row)"
   ]
  },
  {
   "cell_type": "code",
   "execution_count": null,
   "metadata": {},
   "outputs": [],
   "source": [
    "import pandas as pd\n",
    "test = pd.read_csv('data/bitcoin_price.csv')"
   ]
  },
  {
   "cell_type": "code",
   "execution_count": null,
   "metadata": {},
   "outputs": [],
   "source": [
    "%matplotlib inline \n",
    "import matplotlib.pyplot as plt"
   ]
  },
  {
   "cell_type": "code",
   "execution_count": null,
   "metadata": {
    "scrolled": true
   },
   "outputs": [],
   "source": [
    "test?\n"
   ]
  },
  {
   "cell_type": "code",
   "execution_count": null,
   "metadata": {},
   "outputs": [],
   "source": [
    "import numpy\n",
    "t=numpy.array(test.Date.values)\n"
   ]
  },
  {
   "cell_type": "code",
   "execution_count": null,
   "metadata": {},
   "outputs": [],
   "source": [
    "df = pd.test(data=)"
   ]
  },
  {
   "cell_type": "code",
   "execution_count": null,
   "metadata": {},
   "outputs": [],
   "source": [
    "t=list(test.Date.values)\n",
    "t"
   ]
  },
  {
   "cell_type": "code",
   "execution_count": null,
   "metadata": {
    "scrolled": true
   },
   "outputs": [],
   "source": [
    "import matplotlib.dates as dates\n",
    "datesNew = dates.date2num(t)"
   ]
  },
  {
   "cell_type": "code",
   "execution_count": null,
   "metadata": {},
   "outputs": [],
   "source": [
    "dates.date2num?"
   ]
  },
  {
   "cell_type": "code",
   "execution_count": null,
   "metadata": {},
   "outputs": [],
   "source": [
    "import numpy as np"
   ]
  },
  {
   "cell_type": "code",
   "execution_count": null,
   "metadata": {},
   "outputs": [],
   "source": [
    "numpy.datetime64?"
   ]
  },
  {
   "cell_type": "code",
   "execution_count": null,
   "metadata": {},
   "outputs": [],
   "source": [
    "plt.plot(np.linspace(2,200,1),test.Open.values[-200:])"
   ]
  },
  {
   "cell_type": "code",
   "execution_count": null,
   "metadata": {},
   "outputs": [],
   "source": [
    "test.dtypes"
   ]
  },
  {
   "cell_type": "code",
   "execution_count": null,
   "metadata": {},
   "outputs": [],
   "source": [
    "test.Date"
   ]
  },
  {
   "cell_type": "code",
   "execution_count": null,
   "metadata": {},
   "outputs": [],
   "source": [
    "dates=[]\n",
    "opens =[]\n",
    "index=[]\n",
    "n = len(test.Date)\n",
    "for i in range(0,n):\n",
    "    dates.append(test.Date[i])\n",
    "    opens.append(test.Open[n-i-1])\n",
    "    index.append(i)"
   ]
  },
  {
   "cell_type": "code",
   "execution_count": null,
   "metadata": {},
   "outputs": [],
   "source": [
    "import matplotlib\n",
    "datees = matplotlib.dates.date2num(dates)\n",
    "matplotlib.pyplot.plot_date(datees, opens)"
   ]
  },
  {
   "cell_type": "code",
   "execution_count": null,
   "metadata": {},
   "outputs": [],
   "source": [
    "plt.plot(index[-200:], opens[-200:])"
   ]
  },
  {
   "cell_type": "code",
   "execution_count": null,
   "metadata": {},
   "outputs": [],
   "source": []
  }
 ],
 "metadata": {
  "kernelspec": {
   "display_name": "Python 3",
   "language": "python",
   "name": "python3"
  },
  "language_info": {
   "codemirror_mode": {
    "name": "ipython",
    "version": 3
   },
   "file_extension": ".py",
   "mimetype": "text/x-python",
   "name": "python",
   "nbconvert_exporter": "python",
   "pygments_lexer": "ipython3",
   "version": "3.6.4"
  }
 },
 "nbformat": 4,
 "nbformat_minor": 2
}
