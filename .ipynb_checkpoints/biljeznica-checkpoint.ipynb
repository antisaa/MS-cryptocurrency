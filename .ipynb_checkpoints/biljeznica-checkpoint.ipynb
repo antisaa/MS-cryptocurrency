{
 "cells": [
  {
   "cell_type": "markdown",
   "metadata": {},
   "source": [
    "# Kriptovalute"
   ]
  },
  {
   "cell_type": "markdown",
   "metadata": {},
   "source": [
    "Kriptovalute su digitalne imovine prvotno osmišljene kao sredstvo za razmjenu vrijednosti koje koriste kriptografiju za validaciju i sigurnost transakcija, te kontrolu stvaranja dodatnih jedinica.\n",
    "Kriptovalute koriste decentraliziranu kontrolu za razliku od centraliziranih bankarskih sustava."
   ]
  },
  {
   "cell_type": "code",
   "execution_count": null,
   "metadata": {},
   "outputs": [],
   "source": [
    "from IPython.display import Image \n",
    "Image(filename='Cryptocurrency.jpeg')"
   ]
  },
  {
   "cell_type": "markdown",
   "metadata": {},
   "source": [
    "## Bitcoin"
   ]
  },
  {
   "cell_type": "markdown",
   "metadata": {},
   "source": [
    "Bitcoin je prva decentralizirana kriptovaluta napravljena 2009. godine od čovjeka(ili ljudi) pod pseudonimom Satoshi Nakamoto. Motiv za projektiranje Bitcoina je bilo veliko nezadovoljstvo centraliziranim sustavom kojim su upravljale države i banke. \n",
    "Za Satoshija Nakamota problem bankarskog sustava je bilo povjerenje trećoj strani, tj. samoj banci preko kojih se svaka transakcija odvijala. Ono što je po njemu(njima) bilo potrebno je elektronički platni sustav baziran na kriptografijskom dokazu a ne na povjerenju trećoj strani, koji bi omogućavao dvjema stranama da razmjene sredstva direktno jedan s drugim bez povjeravanja trećoj strani. Problem je rješen takozvanom javnom knjigom u kojoj su zapisane sve transakcije javno, a sami računi i količina novca na njima je postala anonimna. Javnu knjigu sadrži svaki čvor koji sudjeluje u mreži. Javna knjiga je zapravo niz blokova u kojima su zapisane transakcije koje su obavljane na mreži.\n",
    "\n",
    "Od tada do danas napravljeno je mnoštvo kriptovaluta koje se baziraju na raznim područjima primjene(od financija, preko osiguranja do nutricionizma).\n"
   ]
  },
  {
   "cell_type": "markdown",
   "metadata": {},
   "source": [
    "## Blochchain"
   ]
  },
  {
   "cell_type": "code",
   "execution_count": null,
   "metadata": {},
   "outputs": [],
   "source": [
    "from IPython.display import YouTubeVideo\n",
    "YouTubeVideo(\"r43LhSUUGTQ\")"
   ]
  },
  {
   "cell_type": "markdown",
   "metadata": {},
   "source": [
    "Gotovo sve kriptovalute su napravljene na blockchain tehnologiji. Blockchain možemo poistovjetiti sa bazom podataka koja je podjeljena između svih čvorova koji sudjeluju u sustavu.\n",
    "Osnovna građevna jedinica svakog blockchaina je blok.\n",
    "Svaki blok sastoji se od svog zaglavlja i tijela. Zaglavlje sadrži hash prethodnog bloka i hash trenutnog bloka, dok tijelo sadrži podatake koji su spremljeni u bloku(data)."
   ]
  },
  {
   "cell_type": "code",
   "execution_count": null,
   "metadata": {},
   "outputs": [],
   "source": [
    "import hashlib\n",
    "\n",
    "class Block:\n",
    "\n",
    "    def __init__(self, previousHash, data):\n",
    "        \n",
    "        self.data = data\n",
    "        self.previousHash = previousHash\n",
    "        self.encoded = \"\"\n",
    "        self.hash = self.hashBlock().hexdigest()\n",
    "        \n",
    "        \n",
    "    def hashBlock(self):\n",
    "        \n",
    "        sha = hashlib.sha256()\n",
    "        se = (str(self.data) + str(self.previousHash)).encode('utf-8')\n",
    "        sha.update(se)\n",
    "        return sha"
   ]
  },
  {
   "cell_type": "markdown",
   "metadata": {},
   "source": [
    "U naš primitivni blok možemo zapisati bilo kakav podatak od teksta do slika i videa."
   ]
  },
  {
   "cell_type": "code",
   "execution_count": null,
   "metadata": {
    "scrolled": true
   },
   "outputs": [],
   "source": [
    "firstBlock = Block(\"\",\"Ovdje moze biti bilo koji podatak\")#Tekst spremljen u prvom bloku\n",
    "firstBlock.hash\n",
    "secondBlock = Block(firstBlock.hash,Image(filename='Cryptocurrency.jpeg'))\n",
    "secondBlock.hash\n",
    "firstBlock.hash"
   ]
  },
  {
   "cell_type": "markdown",
   "metadata": {},
   "source": [
    "### Hash"
   ]
  },
  {
   "cell_type": "markdown",
   "metadata": {},
   "source": [
    "Hash funkcija je algoritam koji od podatka proizvoljne veličine(može biti slovo, a može biti i tekst cijele Biblije ili film od 2 sata) stvara podatak fiksne dužine. Hashiranje je deterministički određena funkcija gdje isti ulaz podataka uvijek daje istu izlaznu vrijednost. Najmanja izmjena podatka kojeg hashiramo rezultira totalno drugim outputom.\n",
    "Linija iznad ispisuje jedinstveni 256-bitni output SHA-256 algoritma. Ako malo promjenimo ulazni string vijednost hash funkcije će biti totalno drugačija:"
   ]
  },
  {
   "cell_type": "code",
   "execution_count": null,
   "metadata": {},
   "outputs": [],
   "source": [
    "#Podaci su indentični samo je promjenjen prvi parametar umjesto zadnjeg znaka u hashu(\"9\") stavljen je znak \"8\" \n",
    "secondBlockChanged = Block(firstBlock.hash[:-1]+\"8\",Image(filename='Cryptocurrency.jpeg'))\n",
    "secondBlockChanged.hash"
   ]
  },
  {
   "cell_type": "markdown",
   "metadata": {},
   "source": [
    "Što je toliko zanimljivo kod hash funkcije?\n",
    "\n",
    "Odgovor leži u invertibilnosti hash funkcije. Što znači da je gotovo nemoguće rekonstruirati ulaznu vrijednost gledajući samo izlaznu vrijednost.\n",
    "Također pomoću hash funkcije svaki blok ima svoju jedinstvenu \"šifru\" koja ovisi o šifri prethodnog bloka i podacima koji se nalaze u samom bloku."
   ]
  },
  {
   "cell_type": "markdown",
   "metadata": {},
   "source": [
    "Najjednostavnija moguća implementacija blockchaina je sljedeća:"
   ]
  },
  {
   "cell_type": "code",
   "execution_count": null,
   "metadata": {},
   "outputs": [],
   "source": [
    "class Blockchain:\n",
    "    \n",
    "    def __init__(self, genesisBlock):\n",
    "        \n",
    "        self.blocks = []\n",
    "        self.blocks.append(genesisBlock)\n",
    "    \n",
    "    def addNewBlock(self, block):\n",
    "        \n",
    "        self.blocks.append(block)"
   ]
  },
  {
   "cell_type": "code",
   "execution_count": null,
   "metadata": {
    "scrolled": false
   },
   "outputs": [],
   "source": [
    "blockchain = Blockchain(firstBlock)\n",
    "blockchain.addNewBlock(secondBlock)\n",
    "thirdBlock = Block(secondBlock.hash,\"Dostojevski je bio sin liječnika, pripadnika nižeg plemstva kojeg su ubili vlastiti kmetovi zbog okrutnosti i ponižavanja, dok mu je majka umrla u djetinjstvu. Budući pisac pohađa i završava vojno-inženjerijsko obrazovanje u Petrogradu, no rano odlučuje da će se posvetiti književničkom pozivu. Među ranim utjecajima najvažniji je njemački dramatičar i pjesnik Friedrich Schiller, za Dostojevskog utjelovljenje idealizma i humanosti - upliv koji je kasnije žestoko ismijavao i karikirao, no, kojeg se nije oslobodio do kraja života. Prevodi Balzacovu Eugeniju Grandet i pod utjecajem Gogolja piše svoje prvo djelo, kratki epistolarni roman Bijedni ljudi (1846.), koji je prikazom trpnji i zanosa tzv. malih ljudi oduševio najznačajnijeg ruskog kritičara Visariona Bjelinskog i lansirala Dostojevskog u sferu eminentnih ruskih književnih krugova. Autor se kreće u društvu literata i dobrostojećih mecena i plemstva, ali izgleda da su njegova sramežljivost, počeci manifestacije živčanih poremećaja koji su kasnije dijagnosticirani kao epilepsija, kao i sklonost kršćanskom misticizmu doprinijeli da nije bio u potpunosti prihvaćen u liberalno-sekularnim krugovima. \")\n",
    "blockchain.addNewBlock(thirdBlock)\n",
    "print(blockchain.blocks[0].hash)\n",
    "print(blockchain.blocks[1].hash)\n",
    "print(blockchain.blocks[2].hash)"
   ]
  },
  {
   "cell_type": "markdown",
   "metadata": {},
   "source": [
    "U liniji iznad imamo blockchain koji se sastoji od tri bloka koji su povezani tako da treći blok sadrži u svom zaglavlju hash drugoga a drugi u zaglavlju hash prvoga. Tako svaki blok može vidjeti što se nalazi u svim prethodnima ali on ne zna zablokove iza sebe. Ako promjenimo bilo što u podacima bilo kojega bloka njegov, a i svi hashovi blokova koji slijede bit će promjenjeni. Kreirat ćemo blockchain identičan prethodnom prvi i treći blok ostaju ne promjenjeni dok su u drugom bloku promjenjeni podaci."
   ]
  },
  {
   "cell_type": "code",
   "execution_count": null,
   "metadata": {},
   "outputs": [],
   "source": [
    "blockchain1 = Blockchain(firstBlock)\n",
    "secondBlockChangedTwice = Block(firstBlock.hash,\"Promjenio sam drugi blok\")\n",
    "blockchain1.addNewBlock(secondBlockChangedTwice)\n",
    "thirdBlock = Block(secondBlockChangedTwice.hash,\"Dostojevski je bio sin liječnika, pripadnika nižeg plemstva kojeg su ubili vlastiti kmetovi zbog okrutnosti i ponižavanja, dok mu je majka umrla u djetinjstvu. Budući pisac pohađa i završava vojno-inženjerijsko obrazovanje u Petrogradu, no rano odlučuje da će se posvetiti književničkom pozivu. Među ranim utjecajima najvažniji je njemački dramatičar i pjesnik Friedrich Schiller, za Dostojevskog utjelovljenje idealizma i humanosti - upliv koji je kasnije žestoko ismijavao i karikirao, no, kojeg se nije oslobodio do kraja života. Prevodi Balzacovu Eugeniju Grandet i pod utjecajem Gogolja piše svoje prvo djelo, kratki epistolarni roman Bijedni ljudi (1846.), koji je prikazom trpnji i zanosa tzv. malih ljudi oduševio najznačajnijeg ruskog kritičara Visariona Bjelinskog i lansirala Dostojevskog u sferu eminentnih ruskih književnih krugova. Autor se kreće u društvu literata i dobrostojećih mecena i plemstva, ali izgleda da su njegova sramežljivost, počeci manifestacije živčanih poremećaja koji su kasnije dijagnosticirani kao epilepsija, kao i sklonost kršćanskom misticizmu doprinijeli da nije bio u potpunosti prihvaćen u liberalno-sekularnim krugovima. \")\n",
    "blockchain1.addNewBlock(thirdBlock)\n",
    "print(blockchain1.blocks[0].hash)\n",
    "print(blockchain1.blocks[1].hash)\n",
    "print(blockchain1.blocks[2].hash)"
   ]
  },
  {
   "cell_type": "code",
   "execution_count": null,
   "metadata": {
    "scrolled": true
   },
   "outputs": [],
   "source": [
    "Image(filename='blockchain.png')\n"
   ]
  },
  {
   "cell_type": "markdown",
   "metadata": {},
   "source": [
    "Da bi implementirali primitivnu kriptovalutu morat ćemo dodati još puno toga u svaki blok. Krenimo sa transakcijama. U svaki blok ćemo upisivati transakcije koje će biti javno dostupne svim čvorovima, tj. svatko tko sudjeluje u održavanju mreže vidi tko je kome poslao koju količinu coina.\n",
    "Za početak implementirat ćemo transakciju:"
   ]
  },
  {
   "cell_type": "code",
   "execution_count": null,
   "metadata": {},
   "outputs": [],
   "source": [
    "class Transaction:\n",
    "    \n",
    "    def __init__(self, sender, reciever, amount,fee):\n",
    "        \n",
    "        self.sender = sender\n",
    "        self.reciever = reciever\n",
    "        self.amount = amount\n",
    "        self.fee = fee\n",
    "        self.encoded = (str(self.sender) + str(self.reciever) + \n",
    "                str(self.amount) ).encode('utf-8')\n",
    "        self.hash = self.hashTransaction().hexdigest()\n",
    "        \n",
    "        \n",
    "    def hashTransaction(self):\n",
    "        \n",
    "        sha = hashlib.sha256()\n",
    "        sha.update(self.encoded)\n",
    "        return sha\n",
    "    \n",
    "    def returnTransaction(self):\n",
    "        \n",
    "        return (str(self.sender)+\" \"+ str(self.reciever)+\" \"\n",
    "              +str(self.amount)+\" \"+str(self.fee))"
   ]
  },
  {
   "cell_type": "markdown",
   "metadata": {},
   "source": [
    "Čvorovi koji sudjeluju u održavanju mreže zovu se rudari(miners). Kada korisnik mreže odluči poslati određenu količinu coina nekom drugom korisniku on ponudi određenu naknadu rudaru koji uvrsti njegovu transakciju u svoj blok. Normalno što je veća naknada ponuđena to je veća vjerojatnost da će njegova transakcija biti prihvaćena prije. Sve transakcije koje su predložene ali nisu prihvaćene(zapisane u blockchain) idu u bazen nepotvrđenih transakcija(mempool):"
   ]
  },
  {
   "cell_type": "code",
   "execution_count": null,
   "metadata": {},
   "outputs": [],
   "source": [
    "import random\n",
    "class Mempool:\n",
    "    \n",
    "    def __init__(self):\n",
    "        \n",
    "        self.transactions=[]\n",
    "        \n",
    "    def addNewTransaction(self,transaction):\n",
    "        \n",
    "        self.transactions.append(transaction)\n",
    "        self.transactions = sorted(self.transactions, key=lambda trans: trans.fee)\n",
    "    \n",
    "    def getSizeOfMempool(self):\n",
    "        return len(self.transactions)\n",
    "    \n",
    "    def printMempool(self):\n",
    "        \n",
    "        for trans in self.transactions:\n",
    "            print(trans.returnTransaction())\n",
    "    \n",
    "    def generateRandom(self,n,accounts):\n",
    "        \n",
    "        for i in range(n):\n",
    "   \n",
    "            sender = random.choice(accounts)\n",
    "            reciever = random.choice(accounts)\n",
    "            while (sender == reciever):\n",
    "                reciever = random.choice(accounts)\n",
    "    \n",
    "            amount = random.randint(1,100)\n",
    "            fee = random.randint(1,100) / 100\n",
    "            transaction = Transaction(sender,reciever,amount,fee)\n",
    "            self.addNewTransaction(transaction)\n"
   ]
  },
  {
   "cell_type": "markdown",
   "metadata": {},
   "source": [
    "Radi jednostavnosti račune ćemo identificirati imenima, a ne hashevima kako to inače biva radi anonimnosti."
   ]
  },
  {
   "cell_type": "code",
   "execution_count": null,
   "metadata": {
    "scrolled": true
   },
   "outputs": [],
   "source": [
    "accounts =['Alice','Bob','Mary','Peter','John']\n",
    "simulationMempool = Mempool()\n",
    "transactions = []\n",
    "\n",
    "for i in range(100):\n",
    "   \n",
    "    sender = random.choice(accounts)\n",
    "    reciever = random.choice(accounts)\n",
    "    while (sender == reciever):\n",
    "        reciever = random.choice(accounts)\n",
    "    \n",
    "    amount = random.randint(1,100)\n",
    "    fee = random.randint(1,100) / 100\n",
    "    transaction = Transaction(sender,reciever,amount,fee)\n",
    "    simulationMempool.addNewTransaction(transaction)\n",
    "simulationMempool.printMempool()"
   ]
  },
  {
   "cell_type": "markdown",
   "metadata": {},
   "source": [
    "Generirali smo mempool sa slučajnim transakcijama, što će nam poslužiti za simulaciju. U praksi mempool je dimičan, tj. svakog trena bilo koji čvor može ubaciti transakciju neovisno o tome jeli ju teoretski moguće izvršiti(tj. ima li korisnik coina koliko šalje)."
   ]
  },
  {
   "cell_type": "markdown",
   "metadata": {},
   "source": [
    "### Privatni i javni ključevi"
   ]
  },
  {
   "cell_type": "markdown",
   "metadata": {},
   "source": [
    "Da bi se korisnik uključio u mrežu, za to mu je potrebna šifra. Da bi svakome korisniku pridružili jedinstvenu šifru koristi se kriptografija s javnim ključem, tj. šifriranje i dešifriranje koriste različite ključeve. Javni ključ će biti javno dostupan svim korisnicima, dok je privatni ključ jedinstveni indetifikator svakoga računa. Uistinu je nemoguće izvesti privatni ključ iz javnog ključa.\n",
    "Privatni i javni ključ služe za slanje transakcija, za validaciju transakcija te za validaciju blokova."
   ]
  },
  {
   "cell_type": "markdown",
   "metadata": {},
   "source": [
    "#### RSA"
   ]
  },
  {
   "cell_type": "markdown",
   "metadata": {},
   "source": [
    "RSA je prvi i najpopularniji kriptosustav s javnim ključem . Njegova sigurnost ima temelje na težini faktorizacije velikih prirodnih brojeva."
   ]
  },
  {
   "cell_type": "code",
   "execution_count": null,
   "metadata": {},
   "outputs": [],
   "source": [
    "from Crypto.PublicKey import RSA \n",
    "    \n",
    "class Wallet:\n",
    "    \n",
    "    def __init__(self,name):\n",
    "        \n",
    "        self.name = name\n",
    "        self.key = RSA.generate(2048, e=65537)\n",
    "        self.public_key = self.key.publickey().exportKey(\"PEM\") \n",
    "        self.private_key = self.key.exportKey(\"PEM\") \n",
    "        self.listOfTransaction = []"
   ]
  },
  {
   "cell_type": "code",
   "execution_count": null,
   "metadata": {
    "scrolled": false
   },
   "outputs": [],
   "source": [
    "wallet1 = Wallet(\"Alice\")\n",
    "wallet2 = Wallet(\"Bob\")\n",
    "\n",
    "message=\"Kako si Alice?\".encode()\n",
    "crypto = wallet1.key.encrypt(message,32)\n",
    "decryptedMessage =wallet1.key.decrypt(crypto)\n",
    "print (crypto)\n",
    "print(\"\\n\"+str(decryptedMessage))"
   ]
  },
  {
   "cell_type": "markdown",
   "metadata": {},
   "source": [
    "Wallet služi za čuvanje transackija koje je poslao ili primio određeni korisnik, a ne stanje računa. \n",
    "Npr. ako je korisnik dobio tri transakcije od po 3, 0.01 i 0.2 coina što znači da je stanje njegovog računa 3.21 coina. Sada ako korisnik odluči poslati 0.15 coina što očito može jer još više ima na računu, neće se njegovo stanje umanjiti za 0.15 coina nego wallet otključava output od 0.2 coina te cijeli iznos (od 0.2 coina) prosljeđuje kao input novoj transakciji, koja ima dva outputa, jedan je 0.15 coina poslanih na adresu primatelja dok je drugi na njegovu osobnu adresu. "
   ]
  },
  {
   "cell_type": "code",
   "execution_count": null,
   "metadata": {
    "scrolled": true
   },
   "outputs": [],
   "source": [
    "Image(filename='transaction.png')"
   ]
  },
  {
   "cell_type": "markdown",
   "metadata": {},
   "source": [
    "Radi jednostavnosti implementacije nećemo koristiti javne i privatne ključeve. Račun je jednistveno određen svojim imenom(name)."
   ]
  },
  {
   "cell_type": "code",
   "execution_count": null,
   "metadata": {},
   "outputs": [],
   "source": [
    "import datetime as date\n",
    "\n",
    "def getMeTime():\n",
    "    \n",
    "    return date.datetime.now()"
   ]
  },
  {
   "cell_type": "markdown",
   "metadata": {},
   "source": [
    "Implementirati ćemo napredni blok u odnosu na prethodni, koji umjesto data sadrži listu transakcija, dodali smo index i timespamp. Timestamp je vrijeme kada je blok minean(izrudaren), a indexom određijemo koji je to blok po redu.\n",
    "Dodatno novi blok sadrži i nounce, to je broj kojeg mineri pogađaju kako bi zadovoljili uvijet kako hash mora izgledati da bi blok bio uvršten u blockchain.\n",
    "Dodana je metoda mineBlock koju koriste mineri kako bi našli hash bloka koji počinje sa određenim brojem nula. Razlog takvog uvjeta na hash je povećana težina mineanja bloka. Povećavanjem broja početnih nula potrebna je veća procesorska snaga za mineanje istog bloka. To je uvedeno da statistički vrijeme mineanja novog bloka bude u prosjeku fiksno neovisno o tome koliko se ukupna procesorska snaga mreže poveća."
   ]
  },
  {
   "cell_type": "code",
   "execution_count": null,
   "metadata": {},
   "outputs": [],
   "source": [
    "import hashlib\n",
    "\n",
    "class BlockAdvanced:\n",
    "\n",
    "    def __init__(self, index, timpestamp, previousHash, transactions):\n",
    "        \n",
    "        self.index = index\n",
    "        self.timestamp = timpestamp\n",
    "        self.nounce = 0\n",
    "        self.transactions = transactions\n",
    "        self.previousHash = previousHash\n",
    "        self.encoded = \"\"\n",
    "        self.hash = \"\"\n",
    "        self.dificulty = \"0\"*4+\"F\"*60\n",
    "        \n",
    "    def hashBlock(self):\n",
    "        \n",
    "        sha = hashlib.sha256()\n",
    "        self.encoded = (str(self.index) + str(self.timestamp) + str(self.nounce)+\n",
    "                str(self.transactions) + str(self.previousHash)).encode('utf-8')\n",
    "        sha.update(self.encoded)\n",
    "        return sha\n",
    "    \n",
    "    def mineBlock(self):\n",
    "        \n",
    "        while(not self.hashBlock().hexdigest()<self.dificulty):\n",
    "            self.nounce +=1\n",
    "        self.hash = self.hashBlock().hexdigest()        "
   ]
  },
  {
   "cell_type": "markdown",
   "metadata": {},
   "source": [
    "### Rudari"
   ]
  },
  {
   "cell_type": "markdown",
   "metadata": {},
   "source": [
    "Rudari(Mineri) su čvorovi koji imaju kod sebe cijeli blockchain (povijest transakcija), te iz mempoola uzimaju transakcije provjeravaju njuhovu validnost te ih uvrštavaju u novi blok ako su validne. Tako se natječu za nagradu koja se daje rudaru koji prvi izrudati novi blok."
   ]
  },
  {
   "cell_type": "code",
   "execution_count": null,
   "metadata": {},
   "outputs": [],
   "source": [
    "class BlockchainAdvanced:\n",
    "    \n",
    "    def __init__(self, genesisBlock):\n",
    "        \n",
    "        self.blocks = []\n",
    "        self.blocks.append(genesisBlock)\n",
    "    \n",
    "    def addNewBlock(self, block):\n",
    "        \n",
    "        self.blocks.append(block)\n",
    "    \n",
    "    def getSize(self):\n",
    "        return len(self.blocks)"
   ]
  },
  {
   "cell_type": "code",
   "execution_count": null,
   "metadata": {},
   "outputs": [],
   "source": [
    "class Miner:\n",
    "    \n",
    "    def __init__(self, name, blockchain ,mempool, difficulty, maxTransactionsPerBlock):\n",
    "        \n",
    "        self.name = name\n",
    "        self.blockchain = blockchain\n",
    "        self.mempool = mempool\n",
    "        self.difficulty = \"0\"*difficulty+\"F\"*(60-difficulty)\n",
    "        self.maxTransactionsPerBlock = maxTransactionsPerBlock\n",
    "        self.sizeOfMempool = self.mempool.getSizeOfMempool()\n",
    "        self.blockchainSize = 1\n",
    "        self.block = type('BlockAdvanced')\n",
    "        self.cnt=1\n",
    "\n",
    "    \n",
    "    def mine(self):\n",
    "        \n",
    "        if(self.sizeOfMempool == 0):\n",
    "            return 0\n",
    "        transactions = []\n",
    "\n",
    "        beg=True\n",
    "        while(len(transactions) < self.maxTransactionsPerBlock  and (self.sizeOfMempool-1) >= 0):\n",
    "            #if (beg):\n",
    "            #    trans1 = Transaction(\"-\",)\n",
    "            if(self.transactionValid(  self.mempool.transactions[self.sizeOfMempool-1], transactions )):\n",
    "                transactions.append(self.mempool.transactions[self.sizeOfMempool-1])\n",
    "            self.mempool.transactions.remove(self.mempool.transactions[self.sizeOfMempool-1])\n",
    "            self.sizeOfMempool = self.mempool.getSizeOfMempool()\n",
    "                \n",
    "            #self.sizeOfMempool -=1\n",
    "            \n",
    "        #self.mempool.printMempool()\n",
    "        self.block = BlockAdvanced(self.blockchain.getSize(),getMeTime(),\n",
    "                              self.blockchain.blocks[self.blockchain.getSize()-1].hash,\n",
    "                                   transactions)\n",
    "        self.blockchain.addNewBlock(self.block)\n",
    "        self.blockchainSize +=1\n",
    "        self.block.mineBlock()\n",
    "        \n",
    "        return self.block\n",
    "    \n",
    "    def transactionValid(self, trans,_transactions):\n",
    "        \n",
    "        sender = trans.sender\n",
    "        amount = trans.amount\n",
    "        balance = 0\n",
    "        \n",
    "        for block in self.blockchain.blocks:\n",
    "            #printBlock(block)\n",
    "            \n",
    "            for tran in block.transactions:\n",
    "                \n",
    "                #print(tran.returnTransaction())\n",
    "                if(tran.sender == sender):\n",
    "                    balance -=tran.amount\n",
    "                elif(tran.reciever == sender):\n",
    "                    balance +=tran.amount\n",
    "        \n",
    "        for trans in _transactions:\n",
    "            \n",
    "            if(tran.sender == sender):\n",
    "                balance -=tran.amount\n",
    "                #print(sender+str(amount))\n",
    "            elif(tran.reciever == sender):\n",
    "                balance +=tran.amount\n",
    "                #print(sender+str(amount))\n",
    "            \n",
    "                   \n",
    "        if((balance-amount)>=0):\n",
    "            return True\n",
    "        \n",
    "        else: return False\n",
    "        \n",
    "        \n",
    "        "
   ]
  },
  {
   "cell_type": "code",
   "execution_count": null,
   "metadata": {},
   "outputs": [],
   "source": [
    "def printBlock(block):\n",
    "    \n",
    "    print(\"=\" * 31 + \" \" + str(block.index) + \" \" + \"=\" * 30)\n",
    "    print(str(block.hash))\n",
    "    print(\"Prev. Hash:\")\n",
    "    print(str(block.previousHash))\n",
    "    print(str(block.timestamp)+ \"   Nounce: \"+str(block.nounce))\n",
    "    print(\"=\" * 64)\n",
    "    for trans in block.transactions:\n",
    "        print(trans.returnTransaction())\n",
    "    print(\"\\n\")\n",
    "def printBlockchain(blockchain):\n",
    "    \n",
    "    for block in blockchain.blocks:\n",
    "        printBlock(block)"
   ]
  },
  {
   "cell_type": "code",
   "execution_count": null,
   "metadata": {},
   "outputs": [],
   "source": [
    "genesisTrans =[]\n",
    "for account in accounts:\n",
    "    trans = Transaction(\"-\",account,1000,0)\n",
    "    #trans.returnTransaction()\n",
    "    genesisTrans.append(trans)"
   ]
  },
  {
   "cell_type": "markdown",
   "metadata": {},
   "source": [
    "## Simulacija"
   ]
  },
  {
   "cell_type": "code",
   "execution_count": null,
   "metadata": {
    "scrolled": true
   },
   "outputs": [],
   "source": [
    "genesisTrans =[]\n",
    "for account in accounts:\n",
    "    trans = Transaction(\"-\",account,100,0)\n",
    "    #trans.returnTransaction()\n",
    "    genesisTrans.append(trans)\n",
    "\n",
    "genesisBlock = BlockAdvanced(0, getMeTime(),\"\",genesisTrans) \n",
    "genesisBlock.mineBlock() # izruderen prvi blok\n",
    "\n",
    "simulationBlockchain = BlockchainAdvanced(genesisBlock)\n",
    "simulationBlockchain = BlockchainAdvanced(genesisBlock)\n",
    "accounts =['Alice','Bob','Mary','Peter','John']\n",
    "simulationMempool = Mempool()\n",
    "simulationMempool.generateRandom(100,accounts)\n",
    "#simulationMempool.printMempool()"
   ]
  },
  {
   "cell_type": "code",
   "execution_count": null,
   "metadata": {
    "scrolled": true
   },
   "outputs": [],
   "source": [
    "minerAlice = Miner(\"Alice\",simulationBlockchain,simulationMempool,5,6)\n",
    "new_block = minerAlice.mine()\n",
    "\n",
    "#printBlock(genesisBlock)\n",
    "#printBlock(new_block)\n",
    "\n",
    "while(minerAlice.mempool.getSizeOfMempool()!=0): \n",
    "    new_block = minerAlice.mine()\n",
    "    #printBlock(new_block)\n",
    "printBlockchain(simulationBlockchain)"
   ]
  },
  {
   "cell_type": "markdown",
   "metadata": {},
   "source": [
    "Gornja implementacija primitivne kriptovalute je nepotpuna. Postoji samo jedan rudar, ako ih inicijaliziramo više oni neće moći surađivati, tj. svaki će graditi svoj blockchain. Također mempool je statičan i transakcije može generirati bilo tko, što je inače okraničeno samo na korisnika koji ima privatni ključ računa."
   ]
  },
  {
   "cell_type": "code",
   "execution_count": null,
   "metadata": {},
   "outputs": [],
   "source": [
    "from multiprocessing import Process\n",
    "   \n",
    "dificulty = \"0\"*5+\"F\"*60\n",
    "timestamp1 = getMeTime()\n",
    "\n",
    "prevHash=genesisBlock.hash\n",
    "index=1\n",
    "parallelMempool = Mempool()\n",
    "parallelMempool.generateRandom(5,accounts)\n",
    "transactions = parallelMempool.transactions\n",
    "timestamp2 = getMeTime()\n",
    "nounce1=0\n",
    "nounce2=0\n",
    "\n",
    "def hashBlock(index,timestamp,previousHash,transactions,nounce):\n",
    "        \n",
    "    sha = hashlib.sha256()\n",
    "    encoded = (str(index) + str(timestamp) + str(nounce)+\n",
    "            str(transactions) + \n",
    "               str(previousHash)).encode('utf-8')\n",
    "    sha.update(encoded)\n",
    "    return sha\n",
    "\n",
    "def mineBlock1(index,timestamp,previousHash,transactions):\n",
    "   \n",
    "    nounce1=0\n",
    "    while(not hashBlock(index,timestamp,previousHash,transactions,nounce1).hexdigest()<dificulty):\n",
    "        nounce1 +=1\n",
    "        pass\n",
    "    hashh = hashBlock(index,timestamp,previousHash,transactions,nounce1).hexdigest()\n",
    "    print (\"Block1 mined! hash:\"+hashh)\n",
    "    \n",
    "def mineBlock2(index,timestamp,previousHash,transactions):\n",
    "\n",
    "    nounce2=0\n",
    "    while(not hashBlock(index,timestamp,previousHash,transactions,nounce2).hexdigest()<dificulty):\n",
    "        nounce2 +=1\n",
    "        pass\n",
    "    hashh = hashBlock(index,timestamp,previousHash,transactions,nounce2).hexdigest()\n",
    "    print (\"Block2 mined! hash:\"+hashh)\n",
    "    \n",
    "p1=Process(target=mineBlock2(index,timestamp1,prevHash,transactions))\n",
    "p1.start()\n",
    "p2 = Process(target=mineBlock1(index,timestamp2,prevHash,transactions))\n",
    "p2.start()\n",
    "p1.join()\n",
    "p2.join()"
   ]
  },
  {
   "cell_type": "code",
   "execution_count": null,
   "metadata": {},
   "outputs": [],
   "source": [
    "import pandas as pd\n",
    "bitcoin = pd.read_csv('data/bitcoin_price.csv')"
   ]
  },
  {
   "cell_type": "code",
   "execution_count": null,
   "metadata": {
    "scrolled": true
   },
   "outputs": [],
   "source": [
    "bitcoin"
   ]
  },
  {
   "cell_type": "code",
   "execution_count": null,
   "metadata": {
    "scrolled": true
   },
   "outputs": [],
   "source": [
    "import numpy as np"
   ]
  },
  {
   "cell_type": "code",
   "execution_count": null,
   "metadata": {
    "scrolled": true
   },
   "outputs": [],
   "source": [
    "from datetime import date, timedelta\n",
    "\n",
    "def getDates(lista, d1,d2):\n",
    "    #d1 = date(2013, 4, 28)  # start date\n",
    "    #d2 = date(2018, 2, 20)  # end date\n",
    "\n",
    "    delta = d2 - d1         # timedelta\n",
    "    for i in range(delta.days + 1):\n",
    "        lista.append(d2 - timedelta(days=i))\n",
    "btcLis=[]\n",
    "\n",
    "getDates(btcLis,date(2013, 4, 28),date(2018, 2, 20))"
   ]
  },
  {
   "cell_type": "markdown",
   "metadata": {},
   "source": [
    "## Graf cijene Bitcoina"
   ]
  },
  {
   "cell_type": "code",
   "execution_count": null,
   "metadata": {
    "scrolled": true
   },
   "outputs": [],
   "source": [
    "%matplotlib inline \n",
    "import matplotlib.pyplot as plt\n",
    "plt.plot(btcLis,bitcoin.Open.values)"
   ]
  },
  {
   "cell_type": "code",
   "execution_count": null,
   "metadata": {},
   "outputs": [],
   "source": [
    "pozitivniDani = bitcoin.Open.values-bitcoin.Close.values"
   ]
  },
  {
   "cell_type": "code",
   "execution_count": null,
   "metadata": {
    "scrolled": true
   },
   "outputs": [],
   "source": [
    "from matplotlib.ticker import FuncFormatter\n",
    "\n",
    "x = np.arange(2)\n",
    "brojDana = [(pozitivniDani>=0).sum(), (pozitivniDani<0).sum()]\n",
    "barlist=plt.bar(['Pozitivni Dani', 'Negativni Dani'], brojDana)\n",
    "barlist[1].set_color('r')\n",
    "plt.show()"
   ]
  },
  {
   "cell_type": "code",
   "execution_count": null,
   "metadata": {},
   "outputs": [],
   "source": [
    "import calendar\n",
    "\n",
    "stat=[]\n",
    "dayOfWeek =[]\n",
    "for it,item in enumerate(btcLis):\n",
    "    #print(item)\n",
    "    poz=0\n",
    "    #dayOfWeek.append(calendar.day_name[item.weekday()])\n",
    "    if(pozitivniDani[it]>0): poz=1\n",
    "    stat.append((calendar.day_name[item.weekday()],poz))\n",
    "#stat"
   ]
  },
  {
   "cell_type": "code",
   "execution_count": null,
   "metadata": {
    "scrolled": true
   },
   "outputs": [],
   "source": [
    "s = pd.Series(dayOfWeek)\n",
    "s\n",
    "dayInWeek=[\n",
    " 'Sunday',\n",
    " 'Saturday',\n",
    " 'Friday',\n",
    " 'Thursday',\n",
    " 'Wednesday',\n",
    " 'Tuesday',\n",
    " 'Monday',]\n",
    "cnt= np.zeros(7)\n",
    "positive=dict(zip(dayInWeek,cnt))\n",
    "negative=dict(zip(dayInWeek,cnt))\n",
    "        \n",
    "for s in stat:\n",
    "    if(s[1]>0):\n",
    "        positive[s[0]] +=1\n",
    "    else:\n",
    "        negative[s[0]] +=1\n",
    "        \n",
    "negativList=[]\n",
    "positLis = []\n",
    "for i in dayInWeek:\n",
    "    negativList.append(positive[i])\n",
    "    positLis.append(negative[i])\n",
    "pos = pd.DataFrame(negativList,columns=['Positive days'],index=dayInWeek)\n",
    "sor=pos.sort_values(by='Positive days')\n",
    "sor\n"
   ]
  },
  {
   "cell_type": "code",
   "execution_count": null,
   "metadata": {
    "scrolled": true
   },
   "outputs": [],
   "source": [
    "neg = pd.DataFrame(positLis,columns=['Negative days'],index=dayInWeek)\n",
    "neg\n",
    "sorNeg=neg.sort_values(by='Negative days')\n",
    "sorNeg"
   ]
  },
  {
   "cell_type": "markdown",
   "metadata": {},
   "source": [
    "Najveće cijene bitcoina su ponedjeljkom dok su nedjeljom najmanje."
   ]
  },
  {
   "cell_type": "code",
   "execution_count": null,
   "metadata": {
    "scrolled": true
   },
   "outputs": [],
   "source": [
    "# Data to plot\n",
    "labels = 'Pozitivni Dani', 'Negativni Dani'\n",
    "sizes = [(pozitivniDani>=0).sum(), (pozitivniDani<0).sum()]\n",
    "colors = ['lightskyblue',  'lightcoral']\n",
    "explode = (0.1, 0)  # explode 1st slice\n",
    " \n",
    "# Plot\n",
    "plt.pie(sizes, explode=explode, labels=labels, colors=colors,\n",
    "        autopct='%1.1f%%', shadow=True, startangle=140)\n",
    " \n",
    "plt.axis('equal')\n",
    "plt.show()"
   ]
  },
  {
   "cell_type": "markdown",
   "metadata": {},
   "source": [
    "Graf volatilnosti - razlika izmeđuu otvarajuće i zatvarajuće cijene Bitcoina"
   ]
  },
  {
   "cell_type": "code",
   "execution_count": null,
   "metadata": {
    "scrolled": false
   },
   "outputs": [],
   "source": [
    "#%matplotlib inline \n",
    "volatilnost = bitcoin.High.values-bitcoin.Low.values\n",
    "plt.plot(btcLis,volatilnost)"
   ]
  },
  {
   "cell_type": "code",
   "execution_count": null,
   "metadata": {},
   "outputs": [],
   "source": [
    "ethereum = pd.read_csv('data/ethereum_price.csv')\n",
    "ethLis=[]\n",
    "         \n",
    "getDates(ethLis,date(2015, 8, 7),date(2018, 2, 20))\n",
    "\n",
    "ripple = pd.read_csv('data/ripple_price.csv')\n",
    "ripLis=[]\n",
    "         \n",
    "getDates(ripLis,date(2013, 8, 4),date(2018, 2, 20))"
   ]
  },
  {
   "cell_type": "code",
   "execution_count": null,
   "metadata": {},
   "outputs": [],
   "source": [
    "fig3, (lijevi, srednji, desni) = plt.subplots(3, 1 , sharex=True)\n",
    "x2 = np.linspace(0, 2)\n",
    "lijevi.plot(btcLis,bitcoin.Open.values)\n",
    "lijevi.set_title('Bitcoin')\n",
    "srednji.plot(ethLis,ethereum.Open.values)\n",
    "srednji.set_title('Ethereum')\n",
    "desni.plot(ripLis,ripple.Open.values)\n",
    "desni.set_title('Ripple')\n"
   ]
  },
  {
   "cell_type": "code",
   "execution_count": null,
   "metadata": {
    "scrolled": true
   },
   "outputs": [],
   "source": [
    "fixed_df = pd.read_csv('data/neo_price.csv', sep=',', encoding='latin1', parse_dates=['Date'], dayfirst=True, index_col='Date')\n",
    "\n",
    "with plt.style.context(('dark_background')):\n",
    "    fixed_df[:80].plot()\n",
    "plt.show()"
   ]
  },
  {
   "cell_type": "code",
   "execution_count": null,
   "metadata": {},
   "outputs": [],
   "source": [
    "import re\n",
    "match = re.search(r'(\\d-\\d-\\d)', bitcoin.Date.values[0])\n",
    "re.split(r'-',bitcoin.Date.values[0])\n",
    "\n"
   ]
  }
 ],
 "metadata": {
  "kernelspec": {
   "display_name": "Python 3",
   "language": "python",
   "name": "python3"
  },
  "language_info": {
   "codemirror_mode": {
    "name": "ipython",
    "version": 3
   },
   "file_extension": ".py",
   "mimetype": "text/x-python",
   "name": "python",
   "nbconvert_exporter": "python",
   "pygments_lexer": "ipython3",
   "version": "3.6.4"
  }
 },
 "nbformat": 4,
 "nbformat_minor": 2
}
